{
 "cells": [
  {
   "cell_type": "markdown",
   "id": "20f7578f",
   "metadata": {
    "papermill": {
     "duration": 0.011343,
     "end_time": "2024-05-07T13:44:28.046286",
     "exception": false,
     "start_time": "2024-05-07T13:44:28.034943",
     "status": "completed"
    },
    "tags": []
   },
   "source": [
    "# load main packages\n"
   ]
  },
  {
   "cell_type": "code",
   "execution_count": 1,
   "id": "99643119",
   "metadata": {
    "execution": {
     "iopub.execute_input": "2024-05-07T13:44:28.068765Z",
     "iopub.status.busy": "2024-05-07T13:44:28.066606Z",
     "iopub.status.idle": "2024-05-07T13:44:28.906309Z",
     "shell.execute_reply": "2024-05-07T13:44:28.904510Z"
    },
    "papermill": {
     "duration": 0.853448,
     "end_time": "2024-05-07T13:44:28.908699",
     "exception": false,
     "start_time": "2024-05-07T13:44:28.055251",
     "status": "completed"
    },
    "tags": []
   },
   "outputs": [
    {
     "name": "stderr",
     "output_type": "stream",
     "text": [
      "\n",
      "Attaching package: ‘dplyr’\n",
      "\n",
      "\n",
      "The following objects are masked from ‘package:stats’:\n",
      "\n",
      "    filter, lag\n",
      "\n",
      "\n",
      "The following objects are masked from ‘package:base’:\n",
      "\n",
      "    intersect, setdiff, setequal, union\n",
      "\n",
      "\n",
      "\n",
      "Attaching package: ‘lubridate’\n",
      "\n",
      "\n",
      "The following objects are masked from ‘package:base’:\n",
      "\n",
      "    date, intersect, setdiff, union\n",
      "\n",
      "\n"
     ]
    }
   ],
   "source": [
    "library(dplyr)\n",
    "library(ggplot2)\n",
    "library(tidyr)\n",
    "library(readr)\n",
    "library(lubridate)"
   ]
  },
  {
   "cell_type": "markdown",
   "id": "35ffcdb6",
   "metadata": {
    "papermill": {
     "duration": 0.009403,
     "end_time": "2024-05-07T13:44:28.928057",
     "exception": false,
     "start_time": "2024-05-07T13:44:28.918654",
     "status": "completed"
    },
    "tags": []
   },
   "source": [
    "# load tables"
   ]
  },
  {
   "cell_type": "code",
   "execution_count": 2,
   "id": "9412098d",
   "metadata": {
    "execution": {
     "iopub.execute_input": "2024-05-07T13:44:28.987582Z",
     "iopub.status.busy": "2024-05-07T13:44:28.958047Z",
     "iopub.status.idle": "2024-05-07T13:44:32.805267Z",
     "shell.execute_reply": "2024-05-07T13:44:32.803691Z"
    },
    "papermill": {
     "duration": 3.869609,
     "end_time": "2024-05-07T13:44:32.807324",
     "exception": false,
     "start_time": "2024-05-07T13:44:28.937715",
     "status": "completed"
    },
    "tags": []
   },
   "outputs": [
    {
     "name": "stderr",
     "output_type": "stream",
     "text": [
      "\u001b[1mRows: \u001b[22m\u001b[34m940\u001b[39m \u001b[1mColumns: \u001b[22m\u001b[34m15\u001b[39m\n",
      "\u001b[36m──\u001b[39m \u001b[1mColumn specification\u001b[22m \u001b[36m────────────────────────────────────────────────────────\u001b[39m\n",
      "\u001b[1mDelimiter:\u001b[22m \",\"\n",
      "\u001b[31mchr\u001b[39m  (1): ActivityDate\n",
      "\u001b[32mdbl\u001b[39m (14): Id, TotalSteps, TotalDistance, TrackerDistance, LoggedActivitiesDi...\n",
      "\n",
      "\u001b[36mℹ\u001b[39m Use `spec()` to retrieve the full column specification for this data.\n",
      "\u001b[36mℹ\u001b[39m Specify the column types or set `show_col_types = FALSE` to quiet this message.\n",
      "\u001b[1mRows: \u001b[22m\u001b[34m413\u001b[39m \u001b[1mColumns: \u001b[22m\u001b[34m5\u001b[39m\n",
      "\u001b[36m──\u001b[39m \u001b[1mColumn specification\u001b[22m \u001b[36m────────────────────────────────────────────────────────\u001b[39m\n",
      "\u001b[1mDelimiter:\u001b[22m \",\"\n",
      "\u001b[31mchr\u001b[39m (1): SleepDay\n",
      "\u001b[32mdbl\u001b[39m (4): Id, TotalSleepRecords, TotalMinutesAsleep, TotalTimeInBed\n",
      "\n",
      "\u001b[36mℹ\u001b[39m Use `spec()` to retrieve the full column specification for this data.\n",
      "\u001b[36mℹ\u001b[39m Specify the column types or set `show_col_types = FALSE` to quiet this message.\n",
      "\u001b[1mRows: \u001b[22m\u001b[34m2483658\u001b[39m \u001b[1mColumns: \u001b[22m\u001b[34m3\u001b[39m\n",
      "\u001b[36m──\u001b[39m \u001b[1mColumn specification\u001b[22m \u001b[36m────────────────────────────────────────────────────────\u001b[39m\n",
      "\u001b[1mDelimiter:\u001b[22m \",\"\n",
      "\u001b[31mchr\u001b[39m (1): Time\n",
      "\u001b[32mdbl\u001b[39m (2): Id, Value\n",
      "\n",
      "\u001b[36mℹ\u001b[39m Use `spec()` to retrieve the full column specification for this data.\n",
      "\u001b[36mℹ\u001b[39m Specify the column types or set `show_col_types = FALSE` to quiet this message.\n",
      "\u001b[1mRows: \u001b[22m\u001b[34m67\u001b[39m \u001b[1mColumns: \u001b[22m\u001b[34m8\u001b[39m\n",
      "\u001b[36m──\u001b[39m \u001b[1mColumn specification\u001b[22m \u001b[36m────────────────────────────────────────────────────────\u001b[39m\n",
      "\u001b[1mDelimiter:\u001b[22m \",\"\n",
      "\u001b[31mchr\u001b[39m (1): Date\n",
      "\u001b[32mdbl\u001b[39m (6): Id, WeightKg, WeightPounds, Fat, BMI, LogId\n",
      "\u001b[33mlgl\u001b[39m (1): IsManualReport\n",
      "\n",
      "\u001b[36mℹ\u001b[39m Use `spec()` to retrieve the full column specification for this data.\n",
      "\u001b[36mℹ\u001b[39m Specify the column types or set `show_col_types = FALSE` to quiet this message.\n",
      "\u001b[1mRows: \u001b[22m\u001b[34m940\u001b[39m \u001b[1mColumns: \u001b[22m\u001b[34m3\u001b[39m\n",
      "\u001b[36m──\u001b[39m \u001b[1mColumn specification\u001b[22m \u001b[36m────────────────────────────────────────────────────────\u001b[39m\n",
      "\u001b[1mDelimiter:\u001b[22m \",\"\n",
      "\u001b[31mchr\u001b[39m (1): ActivityDay\n",
      "\u001b[32mdbl\u001b[39m (2): Id, Calories\n",
      "\n",
      "\u001b[36mℹ\u001b[39m Use `spec()` to retrieve the full column specification for this data.\n",
      "\u001b[36mℹ\u001b[39m Specify the column types or set `show_col_types = FALSE` to quiet this message.\n"
     ]
    },
    {
     "data": {
      "text/html": [
       "<table class=\"dataframe\">\n",
       "<caption>A tibble: 6 × 15</caption>\n",
       "<thead>\n",
       "\t<tr><th scope=col>Id</th><th scope=col>ActivityDate</th><th scope=col>TotalSteps</th><th scope=col>TotalDistance</th><th scope=col>TrackerDistance</th><th scope=col>LoggedActivitiesDistance</th><th scope=col>VeryActiveDistance</th><th scope=col>ModeratelyActiveDistance</th><th scope=col>LightActiveDistance</th><th scope=col>SedentaryActiveDistance</th><th scope=col>VeryActiveMinutes</th><th scope=col>FairlyActiveMinutes</th><th scope=col>LightlyActiveMinutes</th><th scope=col>SedentaryMinutes</th><th scope=col>Calories</th></tr>\n",
       "\t<tr><th scope=col>&lt;dbl&gt;</th><th scope=col>&lt;chr&gt;</th><th scope=col>&lt;dbl&gt;</th><th scope=col>&lt;dbl&gt;</th><th scope=col>&lt;dbl&gt;</th><th scope=col>&lt;dbl&gt;</th><th scope=col>&lt;dbl&gt;</th><th scope=col>&lt;dbl&gt;</th><th scope=col>&lt;dbl&gt;</th><th scope=col>&lt;dbl&gt;</th><th scope=col>&lt;dbl&gt;</th><th scope=col>&lt;dbl&gt;</th><th scope=col>&lt;dbl&gt;</th><th scope=col>&lt;dbl&gt;</th><th scope=col>&lt;dbl&gt;</th></tr>\n",
       "</thead>\n",
       "<tbody>\n",
       "\t<tr><td>1503960366</td><td>4/12/2016</td><td>13162</td><td>8.50</td><td>8.50</td><td>0</td><td>1.88</td><td>0.55</td><td>6.06</td><td>0</td><td>25</td><td>13</td><td>328</td><td> 728</td><td>1985</td></tr>\n",
       "\t<tr><td>1503960366</td><td>4/13/2016</td><td>10735</td><td>6.97</td><td>6.97</td><td>0</td><td>1.57</td><td>0.69</td><td>4.71</td><td>0</td><td>21</td><td>19</td><td>217</td><td> 776</td><td>1797</td></tr>\n",
       "\t<tr><td>1503960366</td><td>4/14/2016</td><td>10460</td><td>6.74</td><td>6.74</td><td>0</td><td>2.44</td><td>0.40</td><td>3.91</td><td>0</td><td>30</td><td>11</td><td>181</td><td>1218</td><td>1776</td></tr>\n",
       "\t<tr><td>1503960366</td><td>4/15/2016</td><td> 9762</td><td>6.28</td><td>6.28</td><td>0</td><td>2.14</td><td>1.26</td><td>2.83</td><td>0</td><td>29</td><td>34</td><td>209</td><td> 726</td><td>1745</td></tr>\n",
       "\t<tr><td>1503960366</td><td>4/16/2016</td><td>12669</td><td>8.16</td><td>8.16</td><td>0</td><td>2.71</td><td>0.41</td><td>5.04</td><td>0</td><td>36</td><td>10</td><td>221</td><td> 773</td><td>1863</td></tr>\n",
       "\t<tr><td>1503960366</td><td>4/17/2016</td><td> 9705</td><td>6.48</td><td>6.48</td><td>0</td><td>3.19</td><td>0.78</td><td>2.51</td><td>0</td><td>38</td><td>20</td><td>164</td><td> 539</td><td>1728</td></tr>\n",
       "</tbody>\n",
       "</table>\n"
      ],
      "text/latex": [
       "A tibble: 6 × 15\n",
       "\\begin{tabular}{lllllllllllllll}\n",
       " Id & ActivityDate & TotalSteps & TotalDistance & TrackerDistance & LoggedActivitiesDistance & VeryActiveDistance & ModeratelyActiveDistance & LightActiveDistance & SedentaryActiveDistance & VeryActiveMinutes & FairlyActiveMinutes & LightlyActiveMinutes & SedentaryMinutes & Calories\\\\\n",
       " <dbl> & <chr> & <dbl> & <dbl> & <dbl> & <dbl> & <dbl> & <dbl> & <dbl> & <dbl> & <dbl> & <dbl> & <dbl> & <dbl> & <dbl>\\\\\n",
       "\\hline\n",
       "\t 1503960366 & 4/12/2016 & 13162 & 8.50 & 8.50 & 0 & 1.88 & 0.55 & 6.06 & 0 & 25 & 13 & 328 &  728 & 1985\\\\\n",
       "\t 1503960366 & 4/13/2016 & 10735 & 6.97 & 6.97 & 0 & 1.57 & 0.69 & 4.71 & 0 & 21 & 19 & 217 &  776 & 1797\\\\\n",
       "\t 1503960366 & 4/14/2016 & 10460 & 6.74 & 6.74 & 0 & 2.44 & 0.40 & 3.91 & 0 & 30 & 11 & 181 & 1218 & 1776\\\\\n",
       "\t 1503960366 & 4/15/2016 &  9762 & 6.28 & 6.28 & 0 & 2.14 & 1.26 & 2.83 & 0 & 29 & 34 & 209 &  726 & 1745\\\\\n",
       "\t 1503960366 & 4/16/2016 & 12669 & 8.16 & 8.16 & 0 & 2.71 & 0.41 & 5.04 & 0 & 36 & 10 & 221 &  773 & 1863\\\\\n",
       "\t 1503960366 & 4/17/2016 &  9705 & 6.48 & 6.48 & 0 & 3.19 & 0.78 & 2.51 & 0 & 38 & 20 & 164 &  539 & 1728\\\\\n",
       "\\end{tabular}\n"
      ],
      "text/markdown": [
       "\n",
       "A tibble: 6 × 15\n",
       "\n",
       "| Id &lt;dbl&gt; | ActivityDate &lt;chr&gt; | TotalSteps &lt;dbl&gt; | TotalDistance &lt;dbl&gt; | TrackerDistance &lt;dbl&gt; | LoggedActivitiesDistance &lt;dbl&gt; | VeryActiveDistance &lt;dbl&gt; | ModeratelyActiveDistance &lt;dbl&gt; | LightActiveDistance &lt;dbl&gt; | SedentaryActiveDistance &lt;dbl&gt; | VeryActiveMinutes &lt;dbl&gt; | FairlyActiveMinutes &lt;dbl&gt; | LightlyActiveMinutes &lt;dbl&gt; | SedentaryMinutes &lt;dbl&gt; | Calories &lt;dbl&gt; |\n",
       "|---|---|---|---|---|---|---|---|---|---|---|---|---|---|---|\n",
       "| 1503960366 | 4/12/2016 | 13162 | 8.50 | 8.50 | 0 | 1.88 | 0.55 | 6.06 | 0 | 25 | 13 | 328 |  728 | 1985 |\n",
       "| 1503960366 | 4/13/2016 | 10735 | 6.97 | 6.97 | 0 | 1.57 | 0.69 | 4.71 | 0 | 21 | 19 | 217 |  776 | 1797 |\n",
       "| 1503960366 | 4/14/2016 | 10460 | 6.74 | 6.74 | 0 | 2.44 | 0.40 | 3.91 | 0 | 30 | 11 | 181 | 1218 | 1776 |\n",
       "| 1503960366 | 4/15/2016 |  9762 | 6.28 | 6.28 | 0 | 2.14 | 1.26 | 2.83 | 0 | 29 | 34 | 209 |  726 | 1745 |\n",
       "| 1503960366 | 4/16/2016 | 12669 | 8.16 | 8.16 | 0 | 2.71 | 0.41 | 5.04 | 0 | 36 | 10 | 221 |  773 | 1863 |\n",
       "| 1503960366 | 4/17/2016 |  9705 | 6.48 | 6.48 | 0 | 3.19 | 0.78 | 2.51 | 0 | 38 | 20 | 164 |  539 | 1728 |\n",
       "\n"
      ],
      "text/plain": [
       "  Id         ActivityDate TotalSteps TotalDistance TrackerDistance\n",
       "1 1503960366 4/12/2016    13162      8.50          8.50           \n",
       "2 1503960366 4/13/2016    10735      6.97          6.97           \n",
       "3 1503960366 4/14/2016    10460      6.74          6.74           \n",
       "4 1503960366 4/15/2016     9762      6.28          6.28           \n",
       "5 1503960366 4/16/2016    12669      8.16          8.16           \n",
       "6 1503960366 4/17/2016     9705      6.48          6.48           \n",
       "  LoggedActivitiesDistance VeryActiveDistance ModeratelyActiveDistance\n",
       "1 0                        1.88               0.55                    \n",
       "2 0                        1.57               0.69                    \n",
       "3 0                        2.44               0.40                    \n",
       "4 0                        2.14               1.26                    \n",
       "5 0                        2.71               0.41                    \n",
       "6 0                        3.19               0.78                    \n",
       "  LightActiveDistance SedentaryActiveDistance VeryActiveMinutes\n",
       "1 6.06                0                       25               \n",
       "2 4.71                0                       21               \n",
       "3 3.91                0                       30               \n",
       "4 2.83                0                       29               \n",
       "5 5.04                0                       36               \n",
       "6 2.51                0                       38               \n",
       "  FairlyActiveMinutes LightlyActiveMinutes SedentaryMinutes Calories\n",
       "1 13                  328                   728             1985    \n",
       "2 19                  217                   776             1797    \n",
       "3 11                  181                  1218             1776    \n",
       "4 34                  209                   726             1745    \n",
       "5 10                  221                   773             1863    \n",
       "6 20                  164                   539             1728    "
      ]
     },
     "metadata": {},
     "output_type": "display_data"
    },
    {
     "data": {
      "text/html": [
       "<table class=\"dataframe\">\n",
       "<caption>A tibble: 6 × 5</caption>\n",
       "<thead>\n",
       "\t<tr><th scope=col>Id</th><th scope=col>SleepDay</th><th scope=col>TotalSleepRecords</th><th scope=col>TotalMinutesAsleep</th><th scope=col>TotalTimeInBed</th></tr>\n",
       "\t<tr><th scope=col>&lt;dbl&gt;</th><th scope=col>&lt;chr&gt;</th><th scope=col>&lt;dbl&gt;</th><th scope=col>&lt;dbl&gt;</th><th scope=col>&lt;dbl&gt;</th></tr>\n",
       "</thead>\n",
       "<tbody>\n",
       "\t<tr><td>1503960366</td><td>4/12/2016 12:00:00 AM</td><td>1</td><td>327</td><td>346</td></tr>\n",
       "\t<tr><td>1503960366</td><td>4/13/2016 12:00:00 AM</td><td>2</td><td>384</td><td>407</td></tr>\n",
       "\t<tr><td>1503960366</td><td>4/15/2016 12:00:00 AM</td><td>1</td><td>412</td><td>442</td></tr>\n",
       "\t<tr><td>1503960366</td><td>4/16/2016 12:00:00 AM</td><td>2</td><td>340</td><td>367</td></tr>\n",
       "\t<tr><td>1503960366</td><td>4/17/2016 12:00:00 AM</td><td>1</td><td>700</td><td>712</td></tr>\n",
       "\t<tr><td>1503960366</td><td>4/19/2016 12:00:00 AM</td><td>1</td><td>304</td><td>320</td></tr>\n",
       "</tbody>\n",
       "</table>\n"
      ],
      "text/latex": [
       "A tibble: 6 × 5\n",
       "\\begin{tabular}{lllll}\n",
       " Id & SleepDay & TotalSleepRecords & TotalMinutesAsleep & TotalTimeInBed\\\\\n",
       " <dbl> & <chr> & <dbl> & <dbl> & <dbl>\\\\\n",
       "\\hline\n",
       "\t 1503960366 & 4/12/2016 12:00:00 AM & 1 & 327 & 346\\\\\n",
       "\t 1503960366 & 4/13/2016 12:00:00 AM & 2 & 384 & 407\\\\\n",
       "\t 1503960366 & 4/15/2016 12:00:00 AM & 1 & 412 & 442\\\\\n",
       "\t 1503960366 & 4/16/2016 12:00:00 AM & 2 & 340 & 367\\\\\n",
       "\t 1503960366 & 4/17/2016 12:00:00 AM & 1 & 700 & 712\\\\\n",
       "\t 1503960366 & 4/19/2016 12:00:00 AM & 1 & 304 & 320\\\\\n",
       "\\end{tabular}\n"
      ],
      "text/markdown": [
       "\n",
       "A tibble: 6 × 5\n",
       "\n",
       "| Id &lt;dbl&gt; | SleepDay &lt;chr&gt; | TotalSleepRecords &lt;dbl&gt; | TotalMinutesAsleep &lt;dbl&gt; | TotalTimeInBed &lt;dbl&gt; |\n",
       "|---|---|---|---|---|\n",
       "| 1503960366 | 4/12/2016 12:00:00 AM | 1 | 327 | 346 |\n",
       "| 1503960366 | 4/13/2016 12:00:00 AM | 2 | 384 | 407 |\n",
       "| 1503960366 | 4/15/2016 12:00:00 AM | 1 | 412 | 442 |\n",
       "| 1503960366 | 4/16/2016 12:00:00 AM | 2 | 340 | 367 |\n",
       "| 1503960366 | 4/17/2016 12:00:00 AM | 1 | 700 | 712 |\n",
       "| 1503960366 | 4/19/2016 12:00:00 AM | 1 | 304 | 320 |\n",
       "\n"
      ],
      "text/plain": [
       "  Id         SleepDay              TotalSleepRecords TotalMinutesAsleep\n",
       "1 1503960366 4/12/2016 12:00:00 AM 1                 327               \n",
       "2 1503960366 4/13/2016 12:00:00 AM 2                 384               \n",
       "3 1503960366 4/15/2016 12:00:00 AM 1                 412               \n",
       "4 1503960366 4/16/2016 12:00:00 AM 2                 340               \n",
       "5 1503960366 4/17/2016 12:00:00 AM 1                 700               \n",
       "6 1503960366 4/19/2016 12:00:00 AM 1                 304               \n",
       "  TotalTimeInBed\n",
       "1 346           \n",
       "2 407           \n",
       "3 442           \n",
       "4 367           \n",
       "5 712           \n",
       "6 320           "
      ]
     },
     "metadata": {},
     "output_type": "display_data"
    },
    {
     "data": {
      "text/html": [
       "<table class=\"dataframe\">\n",
       "<caption>A tibble: 6 × 3</caption>\n",
       "<thead>\n",
       "\t<tr><th scope=col>Id</th><th scope=col>Time</th><th scope=col>Value</th></tr>\n",
       "\t<tr><th scope=col>&lt;dbl&gt;</th><th scope=col>&lt;chr&gt;</th><th scope=col>&lt;dbl&gt;</th></tr>\n",
       "</thead>\n",
       "<tbody>\n",
       "\t<tr><td>2022484408</td><td>4/12/2016 7:21:00 AM</td><td> 97</td></tr>\n",
       "\t<tr><td>2022484408</td><td>4/12/2016 7:21:05 AM</td><td>102</td></tr>\n",
       "\t<tr><td>2022484408</td><td>4/12/2016 7:21:10 AM</td><td>105</td></tr>\n",
       "\t<tr><td>2022484408</td><td>4/12/2016 7:21:20 AM</td><td>103</td></tr>\n",
       "\t<tr><td>2022484408</td><td>4/12/2016 7:21:25 AM</td><td>101</td></tr>\n",
       "\t<tr><td>2022484408</td><td>4/12/2016 7:22:05 AM</td><td> 95</td></tr>\n",
       "</tbody>\n",
       "</table>\n"
      ],
      "text/latex": [
       "A tibble: 6 × 3\n",
       "\\begin{tabular}{lll}\n",
       " Id & Time & Value\\\\\n",
       " <dbl> & <chr> & <dbl>\\\\\n",
       "\\hline\n",
       "\t 2022484408 & 4/12/2016 7:21:00 AM &  97\\\\\n",
       "\t 2022484408 & 4/12/2016 7:21:05 AM & 102\\\\\n",
       "\t 2022484408 & 4/12/2016 7:21:10 AM & 105\\\\\n",
       "\t 2022484408 & 4/12/2016 7:21:20 AM & 103\\\\\n",
       "\t 2022484408 & 4/12/2016 7:21:25 AM & 101\\\\\n",
       "\t 2022484408 & 4/12/2016 7:22:05 AM &  95\\\\\n",
       "\\end{tabular}\n"
      ],
      "text/markdown": [
       "\n",
       "A tibble: 6 × 3\n",
       "\n",
       "| Id &lt;dbl&gt; | Time &lt;chr&gt; | Value &lt;dbl&gt; |\n",
       "|---|---|---|\n",
       "| 2022484408 | 4/12/2016 7:21:00 AM |  97 |\n",
       "| 2022484408 | 4/12/2016 7:21:05 AM | 102 |\n",
       "| 2022484408 | 4/12/2016 7:21:10 AM | 105 |\n",
       "| 2022484408 | 4/12/2016 7:21:20 AM | 103 |\n",
       "| 2022484408 | 4/12/2016 7:21:25 AM | 101 |\n",
       "| 2022484408 | 4/12/2016 7:22:05 AM |  95 |\n",
       "\n"
      ],
      "text/plain": [
       "  Id         Time                 Value\n",
       "1 2022484408 4/12/2016 7:21:00 AM  97  \n",
       "2 2022484408 4/12/2016 7:21:05 AM 102  \n",
       "3 2022484408 4/12/2016 7:21:10 AM 105  \n",
       "4 2022484408 4/12/2016 7:21:20 AM 103  \n",
       "5 2022484408 4/12/2016 7:21:25 AM 101  \n",
       "6 2022484408 4/12/2016 7:22:05 AM  95  "
      ]
     },
     "metadata": {},
     "output_type": "display_data"
    },
    {
     "data": {
      "text/html": [
       "<table class=\"dataframe\">\n",
       "<caption>A tibble: 6 × 8</caption>\n",
       "<thead>\n",
       "\t<tr><th scope=col>Id</th><th scope=col>Date</th><th scope=col>WeightKg</th><th scope=col>WeightPounds</th><th scope=col>Fat</th><th scope=col>BMI</th><th scope=col>IsManualReport</th><th scope=col>LogId</th></tr>\n",
       "\t<tr><th scope=col>&lt;dbl&gt;</th><th scope=col>&lt;chr&gt;</th><th scope=col>&lt;dbl&gt;</th><th scope=col>&lt;dbl&gt;</th><th scope=col>&lt;dbl&gt;</th><th scope=col>&lt;dbl&gt;</th><th scope=col>&lt;lgl&gt;</th><th scope=col>&lt;dbl&gt;</th></tr>\n",
       "</thead>\n",
       "<tbody>\n",
       "\t<tr><td>1503960366</td><td>5/2/2016 11:59:59 PM </td><td> 52.6</td><td>115.9631</td><td>22</td><td>22.65</td><td> TRUE</td><td>1.462234e+12</td></tr>\n",
       "\t<tr><td>1503960366</td><td>5/3/2016 11:59:59 PM </td><td> 52.6</td><td>115.9631</td><td>NA</td><td>22.65</td><td> TRUE</td><td>1.462320e+12</td></tr>\n",
       "\t<tr><td>1927972279</td><td>4/13/2016 1:08:52 AM </td><td>133.5</td><td>294.3171</td><td>NA</td><td>47.54</td><td>FALSE</td><td>1.460510e+12</td></tr>\n",
       "\t<tr><td>2873212765</td><td>4/21/2016 11:59:59 PM</td><td> 56.7</td><td>125.0021</td><td>NA</td><td>21.45</td><td> TRUE</td><td>1.461283e+12</td></tr>\n",
       "\t<tr><td>2873212765</td><td>5/12/2016 11:59:59 PM</td><td> 57.3</td><td>126.3249</td><td>NA</td><td>21.69</td><td> TRUE</td><td>1.463098e+12</td></tr>\n",
       "\t<tr><td>4319703577</td><td>4/17/2016 11:59:59 PM</td><td> 72.4</td><td>159.6147</td><td>25</td><td>27.45</td><td> TRUE</td><td>1.460938e+12</td></tr>\n",
       "</tbody>\n",
       "</table>\n"
      ],
      "text/latex": [
       "A tibble: 6 × 8\n",
       "\\begin{tabular}{llllllll}\n",
       " Id & Date & WeightKg & WeightPounds & Fat & BMI & IsManualReport & LogId\\\\\n",
       " <dbl> & <chr> & <dbl> & <dbl> & <dbl> & <dbl> & <lgl> & <dbl>\\\\\n",
       "\\hline\n",
       "\t 1503960366 & 5/2/2016 11:59:59 PM  &  52.6 & 115.9631 & 22 & 22.65 &  TRUE & 1.462234e+12\\\\\n",
       "\t 1503960366 & 5/3/2016 11:59:59 PM  &  52.6 & 115.9631 & NA & 22.65 &  TRUE & 1.462320e+12\\\\\n",
       "\t 1927972279 & 4/13/2016 1:08:52 AM  & 133.5 & 294.3171 & NA & 47.54 & FALSE & 1.460510e+12\\\\\n",
       "\t 2873212765 & 4/21/2016 11:59:59 PM &  56.7 & 125.0021 & NA & 21.45 &  TRUE & 1.461283e+12\\\\\n",
       "\t 2873212765 & 5/12/2016 11:59:59 PM &  57.3 & 126.3249 & NA & 21.69 &  TRUE & 1.463098e+12\\\\\n",
       "\t 4319703577 & 4/17/2016 11:59:59 PM &  72.4 & 159.6147 & 25 & 27.45 &  TRUE & 1.460938e+12\\\\\n",
       "\\end{tabular}\n"
      ],
      "text/markdown": [
       "\n",
       "A tibble: 6 × 8\n",
       "\n",
       "| Id &lt;dbl&gt; | Date &lt;chr&gt; | WeightKg &lt;dbl&gt; | WeightPounds &lt;dbl&gt; | Fat &lt;dbl&gt; | BMI &lt;dbl&gt; | IsManualReport &lt;lgl&gt; | LogId &lt;dbl&gt; |\n",
       "|---|---|---|---|---|---|---|---|\n",
       "| 1503960366 | 5/2/2016 11:59:59 PM  |  52.6 | 115.9631 | 22 | 22.65 |  TRUE | 1.462234e+12 |\n",
       "| 1503960366 | 5/3/2016 11:59:59 PM  |  52.6 | 115.9631 | NA | 22.65 |  TRUE | 1.462320e+12 |\n",
       "| 1927972279 | 4/13/2016 1:08:52 AM  | 133.5 | 294.3171 | NA | 47.54 | FALSE | 1.460510e+12 |\n",
       "| 2873212765 | 4/21/2016 11:59:59 PM |  56.7 | 125.0021 | NA | 21.45 |  TRUE | 1.461283e+12 |\n",
       "| 2873212765 | 5/12/2016 11:59:59 PM |  57.3 | 126.3249 | NA | 21.69 |  TRUE | 1.463098e+12 |\n",
       "| 4319703577 | 4/17/2016 11:59:59 PM |  72.4 | 159.6147 | 25 | 27.45 |  TRUE | 1.460938e+12 |\n",
       "\n"
      ],
      "text/plain": [
       "  Id         Date                  WeightKg WeightPounds Fat BMI  \n",
       "1 1503960366 5/2/2016 11:59:59 PM   52.6    115.9631     22  22.65\n",
       "2 1503960366 5/3/2016 11:59:59 PM   52.6    115.9631     NA  22.65\n",
       "3 1927972279 4/13/2016 1:08:52 AM  133.5    294.3171     NA  47.54\n",
       "4 2873212765 4/21/2016 11:59:59 PM  56.7    125.0021     NA  21.45\n",
       "5 2873212765 5/12/2016 11:59:59 PM  57.3    126.3249     NA  21.69\n",
       "6 4319703577 4/17/2016 11:59:59 PM  72.4    159.6147     25  27.45\n",
       "  IsManualReport LogId       \n",
       "1  TRUE          1.462234e+12\n",
       "2  TRUE          1.462320e+12\n",
       "3 FALSE          1.460510e+12\n",
       "4  TRUE          1.461283e+12\n",
       "5  TRUE          1.463098e+12\n",
       "6  TRUE          1.460938e+12"
      ]
     },
     "metadata": {},
     "output_type": "display_data"
    },
    {
     "data": {
      "text/html": [
       "<table class=\"dataframe\">\n",
       "<caption>A tibble: 6 × 3</caption>\n",
       "<thead>\n",
       "\t<tr><th scope=col>Id</th><th scope=col>ActivityDay</th><th scope=col>Calories</th></tr>\n",
       "\t<tr><th scope=col>&lt;dbl&gt;</th><th scope=col>&lt;chr&gt;</th><th scope=col>&lt;dbl&gt;</th></tr>\n",
       "</thead>\n",
       "<tbody>\n",
       "\t<tr><td>1503960366</td><td>4/12/2016</td><td>1985</td></tr>\n",
       "\t<tr><td>1503960366</td><td>4/13/2016</td><td>1797</td></tr>\n",
       "\t<tr><td>1503960366</td><td>4/14/2016</td><td>1776</td></tr>\n",
       "\t<tr><td>1503960366</td><td>4/15/2016</td><td>1745</td></tr>\n",
       "\t<tr><td>1503960366</td><td>4/16/2016</td><td>1863</td></tr>\n",
       "\t<tr><td>1503960366</td><td>4/17/2016</td><td>1728</td></tr>\n",
       "</tbody>\n",
       "</table>\n"
      ],
      "text/latex": [
       "A tibble: 6 × 3\n",
       "\\begin{tabular}{lll}\n",
       " Id & ActivityDay & Calories\\\\\n",
       " <dbl> & <chr> & <dbl>\\\\\n",
       "\\hline\n",
       "\t 1503960366 & 4/12/2016 & 1985\\\\\n",
       "\t 1503960366 & 4/13/2016 & 1797\\\\\n",
       "\t 1503960366 & 4/14/2016 & 1776\\\\\n",
       "\t 1503960366 & 4/15/2016 & 1745\\\\\n",
       "\t 1503960366 & 4/16/2016 & 1863\\\\\n",
       "\t 1503960366 & 4/17/2016 & 1728\\\\\n",
       "\\end{tabular}\n"
      ],
      "text/markdown": [
       "\n",
       "A tibble: 6 × 3\n",
       "\n",
       "| Id &lt;dbl&gt; | ActivityDay &lt;chr&gt; | Calories &lt;dbl&gt; |\n",
       "|---|---|---|\n",
       "| 1503960366 | 4/12/2016 | 1985 |\n",
       "| 1503960366 | 4/13/2016 | 1797 |\n",
       "| 1503960366 | 4/14/2016 | 1776 |\n",
       "| 1503960366 | 4/15/2016 | 1745 |\n",
       "| 1503960366 | 4/16/2016 | 1863 |\n",
       "| 1503960366 | 4/17/2016 | 1728 |\n",
       "\n"
      ],
      "text/plain": [
       "  Id         ActivityDay Calories\n",
       "1 1503960366 4/12/2016   1985    \n",
       "2 1503960366 4/13/2016   1797    \n",
       "3 1503960366 4/14/2016   1776    \n",
       "4 1503960366 4/15/2016   1745    \n",
       "5 1503960366 4/16/2016   1863    \n",
       "6 1503960366 4/17/2016   1728    "
      ]
     },
     "metadata": {},
     "output_type": "display_data"
    }
   ],
   "source": [
    "daily_activity <- read_csv(paste0(\"/kaggle/input/fitbit/mturkfitbit_export_4.12.16-5.12.16/Fitabase Data 4.12.16-5.12.16/dailyActivity_merged.csv\"))\n",
    "\n",
    "sleep_data <- read_csv(paste0(\"/kaggle/input/fitbit/mturkfitbit_export_4.12.16-5.12.16/Fitabase Data 4.12.16-5.12.16/sleepDay_merged.csv\"))\n",
    "\n",
    "heart_rate <- read_csv(paste0(\"/kaggle/input/fitbit/mturkfitbit_export_4.12.16-5.12.16/Fitabase Data 4.12.16-5.12.16/heartrate_seconds_merged.csv\"))\n",
    "\n",
    "weight_data <- read_csv(paste0(\"/kaggle/input/fitbit/mturkfitbit_export_4.12.16-5.12.16/Fitabase Data 4.12.16-5.12.16/weightLogInfo_merged.csv\"))\n",
    "\n",
    "daily_calories <- read_csv(paste0(\"/kaggle/input/fitbit/mturkfitbit_export_4.12.16-5.12.16/Fitabase Data 4.12.16-5.12.16/dailyCalories_merged.csv\"))\n",
    "\n",
    "head(daily_activity)\n",
    "\n",
    "head(sleep_data)\n",
    "\n",
    "head(heart_rate)\n",
    "\n",
    "head(weight_data)\n",
    "\n",
    "head(daily_calories)\n"
   ]
  },
  {
   "cell_type": "markdown",
   "id": "1f83fc52",
   "metadata": {
    "papermill": {
     "duration": 0.011499,
     "end_time": "2024-05-07T13:44:32.830494",
     "exception": false,
     "start_time": "2024-05-07T13:44:32.818995",
     "status": "completed"
    },
    "tags": []
   },
   "source": [
    "# cleaning data\n",
    "# check duplicated rows on every table"
   ]
  },
  {
   "cell_type": "code",
   "execution_count": 3,
   "id": "ddd435f6",
   "metadata": {
    "execution": {
     "iopub.execute_input": "2024-05-07T13:44:32.857358Z",
     "iopub.status.busy": "2024-05-07T13:44:32.855671Z",
     "iopub.status.idle": "2024-05-07T13:44:32.934883Z",
     "shell.execute_reply": "2024-05-07T13:44:32.932816Z"
    },
    "papermill": {
     "duration": 0.095167,
     "end_time": "2024-05-07T13:44:32.937296",
     "exception": false,
     "start_time": "2024-05-07T13:44:32.842129",
     "status": "completed"
    },
    "tags": []
   },
   "outputs": [
    {
     "name": "stdout",
     "output_type": "stream",
     "text": [
      "[1] \"No duplicate rows found in daily_activity table.\"\n",
      "[1] \"Duplicate rows found in sleep_data table:\"\n",
      "\u001b[90m# A tibble: 3 × 5\u001b[39m\n",
      "          Id SleepDay        TotalSleepRecords TotalMinutesAsleep TotalTimeInBed\n",
      "       \u001b[3m\u001b[90m<dbl>\u001b[39m\u001b[23m \u001b[3m\u001b[90m<chr>\u001b[39m\u001b[23m                       \u001b[3m\u001b[90m<dbl>\u001b[39m\u001b[23m              \u001b[3m\u001b[90m<dbl>\u001b[39m\u001b[23m          \u001b[3m\u001b[90m<dbl>\u001b[39m\u001b[23m\n",
      "\u001b[90m1\u001b[39m \u001b[4m4\u001b[24m388\u001b[4m1\u001b[24m\u001b[4m6\u001b[24m\u001b[4m1\u001b[24m847 5/5/2016 12:00…                 1                471            495\n",
      "\u001b[90m2\u001b[39m \u001b[4m4\u001b[24m702\u001b[4m9\u001b[24m\u001b[4m2\u001b[24m\u001b[4m1\u001b[24m684 5/7/2016 12:00…                 1                520            543\n",
      "\u001b[90m3\u001b[39m \u001b[4m8\u001b[24m378\u001b[4m5\u001b[24m\u001b[4m6\u001b[24m\u001b[4m3\u001b[24m200 4/25/2016 12:0…                 1                388            402\n"
     ]
    }
   ],
   "source": [
    "#check duplicated rows on every table\n",
    "duplicated_rows_daily_activity <- daily_activity[duplicated(daily_activity), ]\n",
    "if (nrow(duplicated_rows_daily_activity) > 0) {\n",
    "  print(\"Duplicate rows found in daily_activity table:\")\n",
    "  print(duplicated_rows_daily_activity)\n",
    "} else {\n",
    "  print(\"No duplicate rows found in daily_activity table.\")\n",
    "}\n",
    "\n",
    "duplicated_rows_sleep_data <- sleep_data[duplicated(sleep_data), ]\n",
    "if (nrow(duplicated_rows_sleep_data) > 0) {\n",
    "  print(\"Duplicate rows found in sleep_data table:\")\n",
    "  print(duplicated_rows_sleep_data)\n",
    "} else {\n",
    "  print(\"No duplicate rows found in daily_activity table.\")\n",
    "}"
   ]
  },
  {
   "cell_type": "markdown",
   "id": "f668e170",
   "metadata": {
    "papermill": {
     "duration": 0.011789,
     "end_time": "2024-05-07T13:44:32.961494",
     "exception": false,
     "start_time": "2024-05-07T13:44:32.949705",
     "status": "completed"
    },
    "tags": []
   },
   "source": [
    "**after finding some duplicates: Remove duplicates from a dataframe using unique()**"
   ]
  },
  {
   "cell_type": "code",
   "execution_count": 4,
   "id": "4d59c79e",
   "metadata": {
    "execution": {
     "iopub.execute_input": "2024-05-07T13:44:32.989937Z",
     "iopub.status.busy": "2024-05-07T13:44:32.988329Z",
     "iopub.status.idle": "2024-05-07T13:44:33.004743Z",
     "shell.execute_reply": "2024-05-07T13:44:33.003049Z"
    },
    "papermill": {
     "duration": 0.032571,
     "end_time": "2024-05-07T13:44:33.007514",
     "exception": false,
     "start_time": "2024-05-07T13:44:32.974943",
     "status": "completed"
    },
    "tags": []
   },
   "outputs": [],
   "source": [
    "sleep_data <- unique(sleep_data)"
   ]
  },
  {
   "cell_type": "markdown",
   "id": "e8b34fbd",
   "metadata": {
    "papermill": {
     "duration": 0.011579,
     "end_time": "2024-05-07T13:44:33.030902",
     "exception": false,
     "start_time": "2024-05-07T13:44:33.019323",
     "status": "completed"
    },
    "tags": []
   },
   "source": [
    "**another way to remove duplicates is by using dyplyr function called distinct\n",
    "sleep_data <- distinct(sleep_data)**\n"
   ]
  },
  {
   "cell_type": "code",
   "execution_count": 5,
   "id": "d0797a51",
   "metadata": {
    "execution": {
     "iopub.execute_input": "2024-05-07T13:44:33.059885Z",
     "iopub.status.busy": "2024-05-07T13:44:33.058010Z",
     "iopub.status.idle": "2024-05-07T13:44:42.101292Z",
     "shell.execute_reply": "2024-05-07T13:44:42.099619Z"
    },
    "papermill": {
     "duration": 9.0602,
     "end_time": "2024-05-07T13:44:42.103632",
     "exception": false,
     "start_time": "2024-05-07T13:44:33.043432",
     "status": "completed"
    },
    "tags": []
   },
   "outputs": [
    {
     "name": "stdout",
     "output_type": "stream",
     "text": [
      "[1] \"No duplicate rows found in heart_rate table.\"\n",
      "[1] \"No duplicate rows found in weight_data table.\"\n",
      "[1] \"No duplicate rows found in daily_calories table.\"\n"
     ]
    }
   ],
   "source": [
    "duplicated_rows_heart_rate <- heart_rate[duplicated(heart_rate), ]\n",
    "if (nrow(duplicated_rows_heart_rate) > 0) {\n",
    "  print(\"Duplicate rows found in heart_rate table:\")\n",
    "  print(duplicated_rows_heart_rate)\n",
    "} else {\n",
    "  print(\"No duplicate rows found in heart_rate table.\")\n",
    "}\n",
    "\n",
    "duplicated_rows_weight_data <- weight_data[duplicated(weight_data), ]\n",
    "if (nrow(duplicated_rows_weight_data) > 0) {\n",
    "  print(\"Duplicate rows found in weight_data table:\")\n",
    "  print(duplicated_rows_weight_data)\n",
    "} else {\n",
    "  print(\"No duplicate rows found in weight_data table.\")\n",
    "}\n",
    "\n",
    "duplicated_rows_daily_calories <- daily_calories[duplicated(daily_calories), ]\n",
    "if (nrow(duplicated_rows_daily_activity) > 0) {\n",
    "  print(\"Duplicate rows found in daily_calories table:\")\n",
    "  print(duplicated_rows_daily_calories)\n",
    "} else {\n",
    "  print(\"No duplicate rows found in daily_calories table.\")\n",
    "    }\n"
   ]
  },
  {
   "cell_type": "markdown",
   "id": "dfcce334",
   "metadata": {
    "papermill": {
     "duration": 0.013191,
     "end_time": "2024-05-07T13:44:42.129578",
     "exception": false,
     "start_time": "2024-05-07T13:44:42.116387",
     "status": "completed"
    },
    "tags": []
   },
   "source": [
    "**remove spaces and blanks and check if there is any changes**"
   ]
  },
  {
   "cell_type": "code",
   "execution_count": 6,
   "id": "9b0df783",
   "metadata": {
    "execution": {
     "iopub.execute_input": "2024-05-07T13:44:42.158749Z",
     "iopub.status.busy": "2024-05-07T13:44:42.157158Z",
     "iopub.status.idle": "2024-05-07T13:44:42.228541Z",
     "shell.execute_reply": "2024-05-07T13:44:42.226938Z"
    },
    "papermill": {
     "duration": 0.088235,
     "end_time": "2024-05-07T13:44:42.230746",
     "exception": false,
     "start_time": "2024-05-07T13:44:42.142511",
     "status": "completed"
    },
    "tags": []
   },
   "outputs": [
    {
     "name": "stdout",
     "output_type": "stream",
     "text": [
      "[1] \"Changes occurred after applying trimws.\"\n"
     ]
    }
   ],
   "source": [
    "# Create a copy of the original dataframe\n",
    "original_daily_activity <- daily_activity\n",
    "\n",
    "# Apply trimws to all string columns in the dataframe\n",
    "cleaned_daily_activity <- daily_activity %>%\n",
    "  mutate_if(is.character, trimws)\n",
    "\n",
    "# Check if there is any change in the dataframe\n",
    "if (identical(original_daily_activity, cleaned_daily_activity)) {\n",
    "  print(\"No change occurred after applying trimws.\")\n",
    "} else {\n",
    "  print(\"Changes occurred after applying trimws.\")\n",
    "}\n",
    "\n",
    "#if there is changes occurred\n",
    "daily_activity <- cleaned_daily_activity\n"
   ]
  },
  {
   "cell_type": "code",
   "execution_count": 7,
   "id": "35f7482e",
   "metadata": {
    "execution": {
     "iopub.execute_input": "2024-05-07T13:44:42.259503Z",
     "iopub.status.busy": "2024-05-07T13:44:42.258163Z",
     "iopub.status.idle": "2024-05-07T13:44:42.287213Z",
     "shell.execute_reply": "2024-05-07T13:44:42.285716Z"
    },
    "papermill": {
     "duration": 0.046057,
     "end_time": "2024-05-07T13:44:42.289813",
     "exception": false,
     "start_time": "2024-05-07T13:44:42.243756",
     "status": "completed"
    },
    "tags": []
   },
   "outputs": [
    {
     "name": "stdout",
     "output_type": "stream",
     "text": [
      "[1] \"No change occurred after applying trimws.\"\n"
     ]
    }
   ],
   "source": [
    "\n",
    "\n",
    "original_sleep_data <- sleep_data\n",
    "\n",
    "# Apply trimws to all string columns in the dataframe\n",
    "cleaned_sleep_data <- sleep_data %>%\n",
    "  mutate_if(is.character, trimws)\n",
    "\n",
    "# Check if there is any change in the dataframe\n",
    "if (identical(original_sleep_data, cleaned_sleep_data)) {\n",
    "  print(\"No change occurred after applying trimws.\")\n",
    "} else {\n",
    "  print(\"Changes occurred after applying trimws.\")\n",
    "}\n",
    "\n",
    "#if there is changes applied\n",
    "sleep_data <- cleaned_sleep_data\n"
   ]
  },
  {
   "cell_type": "code",
   "execution_count": 8,
   "id": "0a5f7309",
   "metadata": {
    "execution": {
     "iopub.execute_input": "2024-05-07T13:44:42.320049Z",
     "iopub.status.busy": "2024-05-07T13:44:42.318602Z",
     "iopub.status.idle": "2024-05-07T13:44:43.974426Z",
     "shell.execute_reply": "2024-05-07T13:44:43.972630Z"
    },
    "papermill": {
     "duration": 1.674396,
     "end_time": "2024-05-07T13:44:43.977510",
     "exception": false,
     "start_time": "2024-05-07T13:44:42.303114",
     "status": "completed"
    },
    "tags": []
   },
   "outputs": [
    {
     "name": "stdout",
     "output_type": "stream",
     "text": [
      "[1] \"Changes occurred after applying trimws.\"\n"
     ]
    }
   ],
   "source": [
    "\n",
    "# Create a copy of the original dataframe\n",
    "original_heart_rate <- heart_rate\n",
    "\n",
    "# Apply trimws to all string columns in the dataframe\n",
    "cleaned_heart_rate <- heart_rate %>%\n",
    "  mutate_if(is.character, trimws)\n",
    "\n",
    "# Check if there is any change in the dataframe\n",
    "if (identical(original_heart_rate, cleaned_heart_rate)) {\n",
    "  print(\"No change occurred after applying trimws.\")\n",
    "} else {\n",
    "  print(\"Changes occurred after applying trimws.\")\n",
    "}\n",
    "\n",
    "#if there is changes occurred\n",
    "heart_rate <- cleaned_heart_rate\n"
   ]
  },
  {
   "cell_type": "code",
   "execution_count": 9,
   "id": "7c24054c",
   "metadata": {
    "execution": {
     "iopub.execute_input": "2024-05-07T13:44:44.007885Z",
     "iopub.status.busy": "2024-05-07T13:44:44.006299Z",
     "iopub.status.idle": "2024-05-07T13:44:44.038337Z",
     "shell.execute_reply": "2024-05-07T13:44:44.036741Z"
    },
    "papermill": {
     "duration": 0.049779,
     "end_time": "2024-05-07T13:44:44.040541",
     "exception": false,
     "start_time": "2024-05-07T13:44:43.990762",
     "status": "completed"
    },
    "tags": []
   },
   "outputs": [
    {
     "name": "stdout",
     "output_type": "stream",
     "text": [
      "[1] \"Changes occurred after applying trimws.\"\n"
     ]
    }
   ],
   "source": [
    "\n",
    "#weight_data\n",
    "\n",
    "# Create a copy of the original dataframe\n",
    "original_weight_data <- weight_data\n",
    "\n",
    "# Apply trimws to all string columns in the dataframe\n",
    "cleaned_weight_data <- weight_data %>%\n",
    "  mutate_if(is.character, trimws)\n",
    "\n",
    "# Check if there is any change in the dataframe\n",
    "if (identical(original_weight_data, cleaned_weight_data)) {\n",
    "  print(\"No change occurred after applying trimws.\")\n",
    "} else {\n",
    "  print(\"Changes occurred after applying trimws.\")\n",
    "}\n",
    "\n",
    "#if there is changes occurred\n",
    "weight_data <- cleaned_weight_data"
   ]
  },
  {
   "cell_type": "code",
   "execution_count": 10,
   "id": "5ed6da6d",
   "metadata": {
    "execution": {
     "iopub.execute_input": "2024-05-07T13:44:44.070841Z",
     "iopub.status.busy": "2024-05-07T13:44:44.069500Z",
     "iopub.status.idle": "2024-05-07T13:44:44.105038Z",
     "shell.execute_reply": "2024-05-07T13:44:44.101661Z"
    },
    "papermill": {
     "duration": 0.054294,
     "end_time": "2024-05-07T13:44:44.108747",
     "exception": false,
     "start_time": "2024-05-07T13:44:44.054453",
     "status": "completed"
    },
    "tags": []
   },
   "outputs": [
    {
     "name": "stdout",
     "output_type": "stream",
     "text": [
      "[1] \"Changes occurred after applying trimws.\"\n"
     ]
    }
   ],
   "source": [
    "#daily_calories\n",
    "\n",
    "# Create a copy of the original dataframe\n",
    "original_daily_calories <- daily_calories\n",
    "\n",
    "# Apply trimws to all string columns in the dataframe\n",
    "cleaned_daily_calories <- daily_calories %>%\n",
    "  mutate_if(is.character, trimws)\n",
    "\n",
    "# Check if there is any change in the dataframe\n",
    "if (identical(original_daily_calories, cleaned_daily_calories)) {\n",
    "  print(\"No change occurred after applying trimws.\")\n",
    "} else {\n",
    "  print(\"Changes occurred after applying trimws.\")\n",
    "}\n",
    "\n",
    "#if there is changes occurred\n",
    "daily_calories <- cleaned_daily_calories"
   ]
  },
  {
   "cell_type": "markdown",
   "id": "24b55346",
   "metadata": {
    "papermill": {
     "duration": 0.016421,
     "end_time": "2024-05-07T13:44:44.141782",
     "exception": false,
     "start_time": "2024-05-07T13:44:44.125361",
     "status": "completed"
    },
    "tags": []
   },
   "source": [
    "**we noticed that there were spaces only in the sleep_data**"
   ]
  },
  {
   "cell_type": "markdown",
   "id": "3bfdb96b",
   "metadata": {
    "papermill": {
     "duration": 0.013786,
     "end_time": "2024-05-07T13:44:44.169969",
     "exception": false,
     "start_time": "2024-05-07T13:44:44.156183",
     "status": "completed"
    },
    "tags": []
   },
   "source": [
    "# check for null values\n"
   ]
  },
  {
   "cell_type": "code",
   "execution_count": 11,
   "id": "e1cff627",
   "metadata": {
    "execution": {
     "iopub.execute_input": "2024-05-07T13:44:44.200622Z",
     "iopub.status.busy": "2024-05-07T13:44:44.198926Z",
     "iopub.status.idle": "2024-05-07T13:44:44.216643Z",
     "shell.execute_reply": "2024-05-07T13:44:44.214833Z"
    },
    "papermill": {
     "duration": 0.035341,
     "end_time": "2024-05-07T13:44:44.218839",
     "exception": false,
     "start_time": "2024-05-07T13:44:44.183498",
     "status": "completed"
    },
    "tags": []
   },
   "outputs": [
    {
     "name": "stdout",
     "output_type": "stream",
     "text": [
      "[1] \"No column contains null values.\"\n"
     ]
    }
   ],
   "source": [
    "has_null <- any(is.na(daily_activity))\n",
    "\n",
    "if (has_null) {\n",
    "  print(\"At least one column contains null values.\")\n",
    "} else {\n",
    "  print(\"No column contains null values.\")\n",
    "}"
   ]
  },
  {
   "cell_type": "code",
   "execution_count": 12,
   "id": "a9f085ff",
   "metadata": {
    "execution": {
     "iopub.execute_input": "2024-05-07T13:44:44.248889Z",
     "iopub.status.busy": "2024-05-07T13:44:44.247523Z",
     "iopub.status.idle": "2024-05-07T13:44:44.263326Z",
     "shell.execute_reply": "2024-05-07T13:44:44.261570Z"
    },
    "papermill": {
     "duration": 0.03315,
     "end_time": "2024-05-07T13:44:44.265594",
     "exception": false,
     "start_time": "2024-05-07T13:44:44.232444",
     "status": "completed"
    },
    "tags": []
   },
   "outputs": [
    {
     "name": "stdout",
     "output_type": "stream",
     "text": [
      "[1] \"No column contains null values.\"\n"
     ]
    }
   ],
   "source": [
    "has_null <- any(is.na(sleep_data))\n",
    "\n",
    "if (has_null) {\n",
    "  print(\"At least one column contains null values.\")\n",
    "} else {\n",
    "  print(\"No column contains null values.\")\n",
    "}"
   ]
  },
  {
   "cell_type": "code",
   "execution_count": 13,
   "id": "85b3d9a7",
   "metadata": {
    "execution": {
     "iopub.execute_input": "2024-05-07T13:44:44.295261Z",
     "iopub.status.busy": "2024-05-07T13:44:44.293853Z",
     "iopub.status.idle": "2024-05-07T13:44:44.457945Z",
     "shell.execute_reply": "2024-05-07T13:44:44.456062Z"
    },
    "papermill": {
     "duration": 0.181192,
     "end_time": "2024-05-07T13:44:44.459994",
     "exception": false,
     "start_time": "2024-05-07T13:44:44.278802",
     "status": "completed"
    },
    "tags": []
   },
   "outputs": [
    {
     "name": "stdout",
     "output_type": "stream",
     "text": [
      "[1] \"No column contains null values.\"\n"
     ]
    }
   ],
   "source": [
    "has_null <- any(is.na(heart_rate))\n",
    "\n",
    "if (has_null) {\n",
    "  print(\"At least one column contains null values.\")\n",
    "} else {\n",
    "  print(\"No column contains null values.\")\n",
    "}"
   ]
  },
  {
   "cell_type": "code",
   "execution_count": 14,
   "id": "9fc560d0",
   "metadata": {
    "execution": {
     "iopub.execute_input": "2024-05-07T13:44:44.490638Z",
     "iopub.status.busy": "2024-05-07T13:44:44.489179Z",
     "iopub.status.idle": "2024-05-07T13:44:44.590678Z",
     "shell.execute_reply": "2024-05-07T13:44:44.589010Z"
    },
    "papermill": {
     "duration": 0.118924,
     "end_time": "2024-05-07T13:44:44.592853",
     "exception": false,
     "start_time": "2024-05-07T13:44:44.473929",
     "status": "completed"
    },
    "tags": []
   },
   "outputs": [
    {
     "name": "stdout",
     "output_type": "stream",
     "text": [
      "[1] \"At least one column contains null values.\"\n"
     ]
    }
   ],
   "source": [
    "has_null <- any(is.na(weight_data))\n",
    "\n",
    "if (has_null) {\n",
    "  print(\"At least one column contains null values.\")\n",
    "} else {\n",
    "  print(\"No column contains null values.\")\n",
    "}"
   ]
  },
  {
   "cell_type": "code",
   "execution_count": 15,
   "id": "c2cf27a1",
   "metadata": {
    "execution": {
     "iopub.execute_input": "2024-05-07T13:44:44.623721Z",
     "iopub.status.busy": "2024-05-07T13:44:44.622367Z",
     "iopub.status.idle": "2024-05-07T13:44:44.638277Z",
     "shell.execute_reply": "2024-05-07T13:44:44.636671Z"
    },
    "papermill": {
     "duration": 0.033568,
     "end_time": "2024-05-07T13:44:44.640446",
     "exception": false,
     "start_time": "2024-05-07T13:44:44.606878",
     "status": "completed"
    },
    "tags": []
   },
   "outputs": [
    {
     "name": "stdout",
     "output_type": "stream",
     "text": [
      "[1] \"No column contains null values.\"\n"
     ]
    }
   ],
   "source": [
    "has_null <- any(is.na(daily_calories))\n",
    "\n",
    "if (has_null) {\n",
    "  print(\"At least one column contains null values.\")\n",
    "} else {\n",
    "  print(\"No column contains null values.\")\n",
    "}\n"
   ]
  },
  {
   "cell_type": "markdown",
   "id": "54adec7b",
   "metadata": {
    "papermill": {
     "duration": 0.013769,
     "end_time": "2024-05-07T13:44:44.668249",
     "exception": false,
     "start_time": "2024-05-07T13:44:44.654480",
     "status": "completed"
    },
    "tags": []
   },
   "source": [
    "we find out that at least one column contain null value only in the weight dataframenow we can deal with null values in multiple ways:\n",
    "- delete it\n",
    "- fill it manually\n",
    "- fill it with the median value of that column"
   ]
  },
  {
   "cell_type": "code",
   "execution_count": 16,
   "id": "cc2c1af3",
   "metadata": {
    "execution": {
     "iopub.execute_input": "2024-05-07T13:44:44.699433Z",
     "iopub.status.busy": "2024-05-07T13:44:44.698101Z",
     "iopub.status.idle": "2024-05-07T13:44:44.729770Z",
     "shell.execute_reply": "2024-05-07T13:44:44.728306Z"
    },
    "papermill": {
     "duration": 0.049584,
     "end_time": "2024-05-07T13:44:44.731997",
     "exception": false,
     "start_time": "2024-05-07T13:44:44.682413",
     "status": "completed"
    },
    "tags": []
   },
   "outputs": [
    {
     "name": "stdout",
     "output_type": "stream",
     "text": [
      "[1] \"Columns with null values:\"\n",
      "[1] \"Fat\"\n",
      " [1]  2  3  4  5  7  8  9 10 11 12 13 14 15 16 17 18 19 20 21 22 23 24 25 26 27\n",
      "[26] 28 29 30 31 32 33 34 35 36 37 38 39 40 41 42 43 44 45 46 47 48 49 50 51 52\n",
      "[51] 53 54 55 56 57 58 59 60 61 62 63 64 65 66 67\n",
      "[1] 23.5\n"
     ]
    }
   ],
   "source": [
    "\n",
    "#dealing with the null values\n",
    "\n",
    "columns_with_null <- colSums(is.na(weight_data)) > 0\n",
    "\n",
    "# Get the names of columns with null values\n",
    "columns_with_null_names <- names(columns_with_null)[columns_with_null]\n",
    "\n",
    "if (length(columns_with_null_names) > 0) {\n",
    "  print(\"Columns with null values:\")\n",
    "  print(columns_with_null_names)\n",
    "} else {\n",
    "  print(\"No columns have null values.\")\n",
    "}\n",
    "\n",
    "# get rows within fat column that contain null values\n",
    "rows_with_null <- which(is.na(weight_data$Fat))\n",
    "\n",
    "# Print the row numbers with null values\n",
    "print(rows_with_null)\n",
    "\n",
    "#replace null values within weight dataframe in fat column with the median value of that column\n",
    "# Calculate the median value of the \"fat\" column\n",
    "median_fat <- median(weight_data$Fat, na.rm = TRUE)\n",
    "print(median_fat)\n",
    "\n",
    "# Replace null values in the \"fat\" column with the median value\n",
    "weight_data$Fat[is.na(weight_data$Fat)] <- median_fat"
   ]
  },
  {
   "cell_type": "markdown",
   "id": "05d360e4",
   "metadata": {
    "papermill": {
     "duration": 0.014394,
     "end_time": "2024-05-07T13:44:44.760920",
     "exception": false,
     "start_time": "2024-05-07T13:44:44.746526",
     "status": "completed"
    },
    "tags": []
   },
   "source": [
    "# conditional formatting\n",
    "\n",
    "check if the heart rate falls into the normal heart rate range"
   ]
  },
  {
   "cell_type": "code",
   "execution_count": 17,
   "id": "aec3d737",
   "metadata": {
    "execution": {
     "iopub.execute_input": "2024-05-07T13:44:44.792823Z",
     "iopub.status.busy": "2024-05-07T13:44:44.791398Z",
     "iopub.status.idle": "2024-05-07T13:44:44.848187Z",
     "shell.execute_reply": "2024-05-07T13:44:44.846704Z"
    },
    "papermill": {
     "duration": 0.074587,
     "end_time": "2024-05-07T13:44:44.850218",
     "exception": false,
     "start_time": "2024-05-07T13:44:44.775631",
     "status": "completed"
    },
    "tags": []
   },
   "outputs": [
    {
     "name": "stderr",
     "output_type": "stream",
     "text": [
      "Warning message:\n",
      "“Unknown or uninitialised column: `value`.”\n"
     ]
    },
    {
     "name": "stdout",
     "output_type": "stream",
     "text": [
      "[1] 23.65\n",
      "[1] 59.12499\n"
     ]
    },
    {
     "name": "stderr",
     "output_type": "stream",
     "text": [
      "Warning message:\n",
      "“Unknown or uninitialised column: `value`.”\n"
     ]
    },
    {
     "name": "stdout",
     "output_type": "stream",
     "text": [
      "25% \n",
      " NA \n"
     ]
    },
    {
     "name": "stderr",
     "output_type": "stream",
     "text": [
      "Warning message:\n",
      "“Unknown or uninitialised column: `value`.”\n",
      "Warning message:\n",
      "“Unknown or uninitialised column: `value`.”\n",
      "Warning message:\n",
      "“Unknown or uninitialised column: `heart_rate`.”\n",
      "Warning message:\n",
      "“Unknown or uninitialised column: `value`.”\n"
     ]
    },
    {
     "name": "stdout",
     "output_type": "stream",
     "text": [
      "[1] \"No outliers detected in heart rate column.\"\n",
      "[1] \"No outliers detected in weight column.\"\n"
     ]
    }
   ],
   "source": [
    "# Calculate the Interquartile Range (IQR) for heart rate and weight\n",
    "heart_rate_iqr <- IQR(heart_rate$value, na.rm = TRUE)\n",
    "weight_iqr <- IQR(weight_data$WeightKg, na.rm = TRUE)\n",
    "print(weight_iqr)\n",
    "\n",
    "# Define the thresholds for outliers (e.g., 1.5 times the IQR)\n",
    "heart_rate_threshold <- 1.5 * heart_rate_iqr\n",
    "weight_threshold <- 2.5 * weight_iqr\n",
    "print(weight_threshold)\n",
    "\n",
    "print(quantile(heart_rate$value, 0.25) - heart_rate_threshold )\n",
    "\n",
    "# Identify outliers for heart rate and weight\n",
    "heart_rate_outliers <- heart_rate$value < quantile(heart_rate$value, 0.25) - heart_rate_threshold |\n",
    "  heart_rate$heart_rate > quantile(heart_rate$value, 0.75) + heart_rate_threshold\n",
    "\n",
    "weight_outliers <- weight_data$WeightKg < quantile(weight_data$WeightKg, 0.25) - weight_threshold |\n",
    "  weight_data$WeightKg > quantile(weight_data$WeightKg, 0.75) + weight_threshold\n",
    "\n",
    "# Output results\n",
    "if (any(heart_rate_outliers)) {\n",
    "  print(\"Outliers detected in heart rate column.\")\n",
    "} else {\n",
    "  print(\"No outliers detected in heart rate column.\")\n",
    "}\n",
    "\n",
    "if (any(weight_outliers)) {\n",
    "  print(\"Outliers detected in weight column.\")\n",
    "  # Get the indices (row numbers) of rows with outliers\n",
    "  outlier_rows <- which(weight_outliers)\n",
    "  print(outlier_rows)\n",
    "} else {\n",
    "  print(\"No outliers detected in weight column.\")\n",
    "}\n"
   ]
  },
  {
   "cell_type": "markdown",
   "id": "0301a52e",
   "metadata": {
    "papermill": {
     "duration": 0.015143,
     "end_time": "2024-05-07T13:44:44.880044",
     "exception": false,
     "start_time": "2024-05-07T13:44:44.864901",
     "status": "completed"
    },
    "tags": []
   },
   "source": [
    "# check the consistency between tables\n",
    "# check the dates"
   ]
  },
  {
   "cell_type": "code",
   "execution_count": 18,
   "id": "5e7a0619",
   "metadata": {
    "execution": {
     "iopub.execute_input": "2024-05-07T13:44:44.913168Z",
     "iopub.status.busy": "2024-05-07T13:44:44.911535Z",
     "iopub.status.idle": "2024-05-07T13:44:47.333285Z",
     "shell.execute_reply": "2024-05-07T13:44:47.331559Z"
    },
    "papermill": {
     "duration": 2.440899,
     "end_time": "2024-05-07T13:44:47.335771",
     "exception": false,
     "start_time": "2024-05-07T13:44:44.894872",
     "status": "completed"
    },
    "tags": []
   },
   "outputs": [
    {
     "name": "stdout",
     "output_type": "stream",
     "text": [
      "[1] \"All values in the 'sleep day' column contain '12:00:00 AM'.\"\n"
     ]
    }
   ],
   "source": [
    "#Convert ActivityDate in daily_activity to Date\n",
    "daily_activity$ActivityDate <- as.Date(daily_activity$ActivityDate, format = \"%m/%d/%Y\")\n",
    "\n",
    "#check the date of the sleep data table\n",
    "sleep_time <- format(as.POSIXct(sleep_data$SleepDay, format = \"%m/%d/%Y %I:%M:%S %p\"), \"%I:%M:%S %p\")\n",
    "\n",
    "# Check if all values are the same\n",
    "if (all(sleep_time == \"12:00:00 AM\")) {\n",
    "  print(\"All values in the 'sleep day' column contain '12:00:00 AM'.\")\n",
    "} else {\n",
    "  print(\"Not all values in the 'sleep day' column contain '12:00:00 AM'.\")\n",
    "}\n",
    "\n",
    "#delete the time part from sleepDay column in sleep data table\n",
    "sleep_data$SleepDay <- sub(\" 12:00:00 AM\", \"\", sleep_data$SleepDay)\n",
    "\n",
    "# Convert Date in weight_data to Date\n",
    "weight_data$Date <- as.Date(weight_data$Date, format = \"%m/%d/%Y\")\n",
    "\n",
    "# Convert Time in heart_rate to Date\n",
    "heart_rate$Time <- as.Date(heart_rate$Time, format = \"%m/%d/%Y %I:%M:%S %p\")\n",
    "\n",
    "# Convert ActivityDay in daily_calories to Date\n",
    "daily_calories$ActivityDay <- as.Date(daily_calories$ActivityDay, format = \"%m/%d/%Y\")"
   ]
  },
  {
   "cell_type": "markdown",
   "id": "09094d93",
   "metadata": {
    "papermill": {
     "duration": 0.015579,
     "end_time": "2024-05-07T13:44:47.367264",
     "exception": false,
     "start_time": "2024-05-07T13:44:47.351685",
     "status": "completed"
    },
    "tags": []
   },
   "source": [
    "# summarize your data"
   ]
  },
  {
   "cell_type": "code",
   "execution_count": 19,
   "id": "b475f5ca",
   "metadata": {
    "execution": {
     "iopub.execute_input": "2024-05-07T13:44:47.400451Z",
     "iopub.status.busy": "2024-05-07T13:44:47.399036Z",
     "iopub.status.idle": "2024-05-07T13:44:47.619157Z",
     "shell.execute_reply": "2024-05-07T13:44:47.617602Z"
    },
    "papermill": {
     "duration": 0.239369,
     "end_time": "2024-05-07T13:44:47.621378",
     "exception": false,
     "start_time": "2024-05-07T13:44:47.382009",
     "status": "completed"
    },
    "tags": []
   },
   "outputs": [
    {
     "data": {
      "text/plain": [
       "   TotalSteps    VeryActiveMinutes FairlyActiveMinutes LightlyActiveMinutes\n",
       " Min.   :    0   Min.   :  0.00    Min.   :  0.00      Min.   :  0.0       \n",
       " 1st Qu.: 3790   1st Qu.:  0.00    1st Qu.:  0.00      1st Qu.:127.0       \n",
       " Median : 7406   Median :  4.00    Median :  6.00      Median :199.0       \n",
       " Mean   : 7638   Mean   : 21.16    Mean   : 13.56      Mean   :192.8       \n",
       " 3rd Qu.:10727   3rd Qu.: 32.00    3rd Qu.: 19.00      3rd Qu.:264.0       \n",
       " Max.   :36019   Max.   :210.00    Max.   :143.00      Max.   :518.0       \n",
       " SedentaryMinutes    Calories   \n",
       " Min.   :   0.0   Min.   :   0  \n",
       " 1st Qu.: 729.8   1st Qu.:1828  \n",
       " Median :1057.5   Median :2134  \n",
       " Mean   : 991.2   Mean   :2304  \n",
       " 3rd Qu.:1229.5   3rd Qu.:2793  \n",
       " Max.   :1440.0   Max.   :4900  "
      ]
     },
     "metadata": {},
     "output_type": "display_data"
    },
    {
     "data": {
      "text/plain": [
       "     Value       \n",
       " Min.   : 36.00  \n",
       " 1st Qu.: 63.00  \n",
       " Median : 73.00  \n",
       " Mean   : 77.33  \n",
       " 3rd Qu.: 88.00  \n",
       " Max.   :203.00  "
      ]
     },
     "metadata": {},
     "output_type": "display_data"
    },
    {
     "data": {
      "text/plain": [
       "    WeightKg       WeightPounds        Fat            BMI       \n",
       " Min.   : 52.60   Min.   :116.0   Min.   :22.0   Min.   :21.45  \n",
       " 1st Qu.: 61.40   1st Qu.:135.4   1st Qu.:23.5   1st Qu.:23.96  \n",
       " Median : 62.50   Median :137.8   Median :23.5   Median :24.39  \n",
       " Mean   : 72.04   Mean   :158.8   Mean   :23.5   Mean   :25.19  \n",
       " 3rd Qu.: 85.05   3rd Qu.:187.5   3rd Qu.:23.5   3rd Qu.:25.56  \n",
       " Max.   :133.50   Max.   :294.3   Max.   :25.0   Max.   :47.54  "
      ]
     },
     "metadata": {},
     "output_type": "display_data"
    },
    {
     "data": {
      "text/plain": [
       "    Calories   \n",
       " Min.   :   0  \n",
       " 1st Qu.:1828  \n",
       " Median :2134  \n",
       " Mean   :2304  \n",
       " 3rd Qu.:2793  \n",
       " Max.   :4900  "
      ]
     },
     "metadata": {},
     "output_type": "display_data"
    }
   ],
   "source": [
    "\n",
    "#Summarize daily_activity\n",
    "daily_activity %>% \n",
    "select(TotalSteps, VeryActiveMinutes, FairlyActiveMinutes, LightlyActiveMinutes, SedentaryMinutes, Calories) %>%\n",
    "summary()\n",
    "\n",
    "#Summarize heart_rate\n",
    "heart_rate %>%\n",
    "  select(Value) %>%\n",
    "  summary()\n",
    "\n",
    "#Summarize weight_data\n",
    "weight_data %>% \n",
    "  select(WeightKg, WeightPounds, Fat, BMI) %>%\n",
    "  summary()\n",
    "\n",
    "#Summarize daily_calories\n",
    "daily_calories %>% \n",
    "  select(Calories) %>%\n",
    "  summary()"
   ]
  },
  {
   "cell_type": "markdown",
   "id": "f29494ba",
   "metadata": {
    "papermill": {
     "duration": 0.016204,
     "end_time": "2024-05-07T13:44:47.653772",
     "exception": false,
     "start_time": "2024-05-07T13:44:47.637568",
     "status": "completed"
    },
    "tags": []
   },
   "source": [
    "# Merging data\n"
   ]
  },
  {
   "cell_type": "code",
   "execution_count": 20,
   "id": "ab622ad4",
   "metadata": {
    "execution": {
     "iopub.execute_input": "2024-05-07T13:44:47.711816Z",
     "iopub.status.busy": "2024-05-07T13:44:47.710413Z",
     "iopub.status.idle": "2024-05-07T13:44:47.769642Z",
     "shell.execute_reply": "2024-05-07T13:44:47.768055Z"
    },
    "papermill": {
     "duration": 0.102441,
     "end_time": "2024-05-07T13:44:47.771647",
     "exception": false,
     "start_time": "2024-05-07T13:44:47.669206",
     "status": "completed"
    },
    "tags": []
   },
   "outputs": [
    {
     "data": {
      "text/html": [
       "<table class=\"dataframe\">\n",
       "<caption>A data.frame: 6 × 19</caption>\n",
       "<thead>\n",
       "\t<tr><th></th><th scope=col>Id</th><th scope=col>ActivityDate</th><th scope=col>TotalSteps</th><th scope=col>TotalDistance</th><th scope=col>TrackerDistance</th><th scope=col>LoggedActivitiesDistance</th><th scope=col>VeryActiveDistance</th><th scope=col>ModeratelyActiveDistance</th><th scope=col>LightActiveDistance</th><th scope=col>SedentaryActiveDistance</th><th scope=col>VeryActiveMinutes</th><th scope=col>FairlyActiveMinutes</th><th scope=col>LightlyActiveMinutes</th><th scope=col>SedentaryMinutes</th><th scope=col>Calories</th><th scope=col>SleepDay</th><th scope=col>TotalSleepRecords</th><th scope=col>TotalMinutesAsleep</th><th scope=col>TotalTimeInBed</th></tr>\n",
       "\t<tr><th></th><th scope=col>&lt;dbl&gt;</th><th scope=col>&lt;date&gt;</th><th scope=col>&lt;dbl&gt;</th><th scope=col>&lt;dbl&gt;</th><th scope=col>&lt;dbl&gt;</th><th scope=col>&lt;dbl&gt;</th><th scope=col>&lt;dbl&gt;</th><th scope=col>&lt;dbl&gt;</th><th scope=col>&lt;dbl&gt;</th><th scope=col>&lt;dbl&gt;</th><th scope=col>&lt;dbl&gt;</th><th scope=col>&lt;dbl&gt;</th><th scope=col>&lt;dbl&gt;</th><th scope=col>&lt;dbl&gt;</th><th scope=col>&lt;dbl&gt;</th><th scope=col>&lt;chr&gt;</th><th scope=col>&lt;dbl&gt;</th><th scope=col>&lt;dbl&gt;</th><th scope=col>&lt;dbl&gt;</th></tr>\n",
       "</thead>\n",
       "<tbody>\n",
       "\t<tr><th scope=row>1</th><td>1503960366</td><td>2016-05-07</td><td>11992</td><td>7.71</td><td>7.71</td><td>0</td><td>2.46</td><td>2.12</td><td>3.13</td><td>0</td><td>37</td><td>46</td><td>175</td><td>833</td><td>1821</td><td>4/12/2016</td><td>1</td><td>327</td><td>346</td></tr>\n",
       "\t<tr><th scope=row>2</th><td>1503960366</td><td>2016-05-07</td><td>11992</td><td>7.71</td><td>7.71</td><td>0</td><td>2.46</td><td>2.12</td><td>3.13</td><td>0</td><td>37</td><td>46</td><td>175</td><td>833</td><td>1821</td><td>4/13/2016</td><td>2</td><td>384</td><td>407</td></tr>\n",
       "\t<tr><th scope=row>3</th><td>1503960366</td><td>2016-05-07</td><td>11992</td><td>7.71</td><td>7.71</td><td>0</td><td>2.46</td><td>2.12</td><td>3.13</td><td>0</td><td>37</td><td>46</td><td>175</td><td>833</td><td>1821</td><td>4/15/2016</td><td>1</td><td>412</td><td>442</td></tr>\n",
       "\t<tr><th scope=row>4</th><td>1503960366</td><td>2016-05-07</td><td>11992</td><td>7.71</td><td>7.71</td><td>0</td><td>2.46</td><td>2.12</td><td>3.13</td><td>0</td><td>37</td><td>46</td><td>175</td><td>833</td><td>1821</td><td>4/16/2016</td><td>2</td><td>340</td><td>367</td></tr>\n",
       "\t<tr><th scope=row>5</th><td>1503960366</td><td>2016-05-07</td><td>11992</td><td>7.71</td><td>7.71</td><td>0</td><td>2.46</td><td>2.12</td><td>3.13</td><td>0</td><td>37</td><td>46</td><td>175</td><td>833</td><td>1821</td><td>4/17/2016</td><td>1</td><td>700</td><td>712</td></tr>\n",
       "\t<tr><th scope=row>6</th><td>1503960366</td><td>2016-05-07</td><td>11992</td><td>7.71</td><td>7.71</td><td>0</td><td>2.46</td><td>2.12</td><td>3.13</td><td>0</td><td>37</td><td>46</td><td>175</td><td>833</td><td>1821</td><td>4/19/2016</td><td>1</td><td>304</td><td>320</td></tr>\n",
       "</tbody>\n",
       "</table>\n"
      ],
      "text/latex": [
       "A data.frame: 6 × 19\n",
       "\\begin{tabular}{r|lllllllllllllllllll}\n",
       "  & Id & ActivityDate & TotalSteps & TotalDistance & TrackerDistance & LoggedActivitiesDistance & VeryActiveDistance & ModeratelyActiveDistance & LightActiveDistance & SedentaryActiveDistance & VeryActiveMinutes & FairlyActiveMinutes & LightlyActiveMinutes & SedentaryMinutes & Calories & SleepDay & TotalSleepRecords & TotalMinutesAsleep & TotalTimeInBed\\\\\n",
       "  & <dbl> & <date> & <dbl> & <dbl> & <dbl> & <dbl> & <dbl> & <dbl> & <dbl> & <dbl> & <dbl> & <dbl> & <dbl> & <dbl> & <dbl> & <chr> & <dbl> & <dbl> & <dbl>\\\\\n",
       "\\hline\n",
       "\t1 & 1503960366 & 2016-05-07 & 11992 & 7.71 & 7.71 & 0 & 2.46 & 2.12 & 3.13 & 0 & 37 & 46 & 175 & 833 & 1821 & 4/12/2016 & 1 & 327 & 346\\\\\n",
       "\t2 & 1503960366 & 2016-05-07 & 11992 & 7.71 & 7.71 & 0 & 2.46 & 2.12 & 3.13 & 0 & 37 & 46 & 175 & 833 & 1821 & 4/13/2016 & 2 & 384 & 407\\\\\n",
       "\t3 & 1503960366 & 2016-05-07 & 11992 & 7.71 & 7.71 & 0 & 2.46 & 2.12 & 3.13 & 0 & 37 & 46 & 175 & 833 & 1821 & 4/15/2016 & 1 & 412 & 442\\\\\n",
       "\t4 & 1503960366 & 2016-05-07 & 11992 & 7.71 & 7.71 & 0 & 2.46 & 2.12 & 3.13 & 0 & 37 & 46 & 175 & 833 & 1821 & 4/16/2016 & 2 & 340 & 367\\\\\n",
       "\t5 & 1503960366 & 2016-05-07 & 11992 & 7.71 & 7.71 & 0 & 2.46 & 2.12 & 3.13 & 0 & 37 & 46 & 175 & 833 & 1821 & 4/17/2016 & 1 & 700 & 712\\\\\n",
       "\t6 & 1503960366 & 2016-05-07 & 11992 & 7.71 & 7.71 & 0 & 2.46 & 2.12 & 3.13 & 0 & 37 & 46 & 175 & 833 & 1821 & 4/19/2016 & 1 & 304 & 320\\\\\n",
       "\\end{tabular}\n"
      ],
      "text/markdown": [
       "\n",
       "A data.frame: 6 × 19\n",
       "\n",
       "| <!--/--> | Id &lt;dbl&gt; | ActivityDate &lt;date&gt; | TotalSteps &lt;dbl&gt; | TotalDistance &lt;dbl&gt; | TrackerDistance &lt;dbl&gt; | LoggedActivitiesDistance &lt;dbl&gt; | VeryActiveDistance &lt;dbl&gt; | ModeratelyActiveDistance &lt;dbl&gt; | LightActiveDistance &lt;dbl&gt; | SedentaryActiveDistance &lt;dbl&gt; | VeryActiveMinutes &lt;dbl&gt; | FairlyActiveMinutes &lt;dbl&gt; | LightlyActiveMinutes &lt;dbl&gt; | SedentaryMinutes &lt;dbl&gt; | Calories &lt;dbl&gt; | SleepDay &lt;chr&gt; | TotalSleepRecords &lt;dbl&gt; | TotalMinutesAsleep &lt;dbl&gt; | TotalTimeInBed &lt;dbl&gt; |\n",
       "|---|---|---|---|---|---|---|---|---|---|---|---|---|---|---|---|---|---|---|---|\n",
       "| 1 | 1503960366 | 2016-05-07 | 11992 | 7.71 | 7.71 | 0 | 2.46 | 2.12 | 3.13 | 0 | 37 | 46 | 175 | 833 | 1821 | 4/12/2016 | 1 | 327 | 346 |\n",
       "| 2 | 1503960366 | 2016-05-07 | 11992 | 7.71 | 7.71 | 0 | 2.46 | 2.12 | 3.13 | 0 | 37 | 46 | 175 | 833 | 1821 | 4/13/2016 | 2 | 384 | 407 |\n",
       "| 3 | 1503960366 | 2016-05-07 | 11992 | 7.71 | 7.71 | 0 | 2.46 | 2.12 | 3.13 | 0 | 37 | 46 | 175 | 833 | 1821 | 4/15/2016 | 1 | 412 | 442 |\n",
       "| 4 | 1503960366 | 2016-05-07 | 11992 | 7.71 | 7.71 | 0 | 2.46 | 2.12 | 3.13 | 0 | 37 | 46 | 175 | 833 | 1821 | 4/16/2016 | 2 | 340 | 367 |\n",
       "| 5 | 1503960366 | 2016-05-07 | 11992 | 7.71 | 7.71 | 0 | 2.46 | 2.12 | 3.13 | 0 | 37 | 46 | 175 | 833 | 1821 | 4/17/2016 | 1 | 700 | 712 |\n",
       "| 6 | 1503960366 | 2016-05-07 | 11992 | 7.71 | 7.71 | 0 | 2.46 | 2.12 | 3.13 | 0 | 37 | 46 | 175 | 833 | 1821 | 4/19/2016 | 1 | 304 | 320 |\n",
       "\n"
      ],
      "text/plain": [
       "  Id         ActivityDate TotalSteps TotalDistance TrackerDistance\n",
       "1 1503960366 2016-05-07   11992      7.71          7.71           \n",
       "2 1503960366 2016-05-07   11992      7.71          7.71           \n",
       "3 1503960366 2016-05-07   11992      7.71          7.71           \n",
       "4 1503960366 2016-05-07   11992      7.71          7.71           \n",
       "5 1503960366 2016-05-07   11992      7.71          7.71           \n",
       "6 1503960366 2016-05-07   11992      7.71          7.71           \n",
       "  LoggedActivitiesDistance VeryActiveDistance ModeratelyActiveDistance\n",
       "1 0                        2.46               2.12                    \n",
       "2 0                        2.46               2.12                    \n",
       "3 0                        2.46               2.12                    \n",
       "4 0                        2.46               2.12                    \n",
       "5 0                        2.46               2.12                    \n",
       "6 0                        2.46               2.12                    \n",
       "  LightActiveDistance SedentaryActiveDistance VeryActiveMinutes\n",
       "1 3.13                0                       37               \n",
       "2 3.13                0                       37               \n",
       "3 3.13                0                       37               \n",
       "4 3.13                0                       37               \n",
       "5 3.13                0                       37               \n",
       "6 3.13                0                       37               \n",
       "  FairlyActiveMinutes LightlyActiveMinutes SedentaryMinutes Calories SleepDay \n",
       "1 46                  175                  833              1821     4/12/2016\n",
       "2 46                  175                  833              1821     4/13/2016\n",
       "3 46                  175                  833              1821     4/15/2016\n",
       "4 46                  175                  833              1821     4/16/2016\n",
       "5 46                  175                  833              1821     4/17/2016\n",
       "6 46                  175                  833              1821     4/19/2016\n",
       "  TotalSleepRecords TotalMinutesAsleep TotalTimeInBed\n",
       "1 1                 327                346           \n",
       "2 2                 384                407           \n",
       "3 1                 412                442           \n",
       "4 2                 340                367           \n",
       "5 1                 700                712           \n",
       "6 1                 304                320           "
      ]
     },
     "metadata": {},
     "output_type": "display_data"
    }
   ],
   "source": [
    "merged_data <- merge(daily_activity, sleep_data, by=c('Id'))\n",
    "head(merged_data)"
   ]
  },
  {
   "cell_type": "markdown",
   "id": "76ae5464",
   "metadata": {
    "papermill": {
     "duration": 0.015395,
     "end_time": "2024-05-07T13:44:47.802985",
     "exception": false,
     "start_time": "2024-05-07T13:44:47.787590",
     "status": "completed"
    },
    "tags": []
   },
   "source": [
    "# plotting\n"
   ]
  },
  {
   "cell_type": "code",
   "execution_count": 21,
   "id": "b26c143c",
   "metadata": {
    "execution": {
     "iopub.execute_input": "2024-05-07T13:44:47.836941Z",
     "iopub.status.busy": "2024-05-07T13:44:47.835637Z",
     "iopub.status.idle": "2024-05-07T13:44:49.213152Z",
     "shell.execute_reply": "2024-05-07T13:44:49.211472Z"
    },
    "papermill": {
     "duration": 1.399114,
     "end_time": "2024-05-07T13:44:49.217742",
     "exception": false,
     "start_time": "2024-05-07T13:44:47.818628",
     "status": "completed"
    },
    "tags": []
   },
   "outputs": [
    {
     "name": "stderr",
     "output_type": "stream",
     "text": [
      "\u001b[1m\u001b[22m`geom_smooth()` using method = 'loess' and formula = 'y ~ x'\n"
     ]
    },
    {
     "data": {
      "image/png": "[encoded data removed]"
     },
     "metadata": {
      "image/png": {
       "height": 420,
       "width": 420
      }
     },
     "output_type": "display_data"
    }
   ],
   "source": [
    "ggplot(data=daily_activity, aes(x=TotalSteps, y=Calories)) + \n",
    "geom_point() + geom_smooth() + labs(title=\"Total Steps vs. Calories\")"
   ]
  },
  {
   "cell_type": "markdown",
   "id": "3bed9982",
   "metadata": {
    "papermill": {
     "duration": 0.01857,
     "end_time": "2024-05-07T13:44:49.255621",
     "exception": false,
     "start_time": "2024-05-07T13:44:49.237051",
     "status": "completed"
    },
    "tags": []
   },
   "source": [
    "1. This visualization illustrates the relationship between total steps taken and calories burned.\n",
    "\n",
    "2. Understanding this relationship can help customers gauge the effectiveness of their physical\n",
    " \n",
    "3. activity in terms of calorie expenditure, motivating them to achieve their fitness goals."
   ]
  },
  {
   "cell_type": "markdown",
   "id": "4d800121",
   "metadata": {
    "papermill": {
     "duration": 0.018114,
     "end_time": "2024-05-07T13:44:49.291700",
     "exception": false,
     "start_time": "2024-05-07T13:44:49.273586",
     "status": "completed"
    },
    "tags": []
   },
   "source": [
    "# Visualize trends in daily activity levels over time"
   ]
  },
  {
   "cell_type": "code",
   "execution_count": 22,
   "id": "6fe4d66a",
   "metadata": {
    "execution": {
     "iopub.execute_input": "2024-05-07T13:44:49.331165Z",
     "iopub.status.busy": "2024-05-07T13:44:49.329682Z",
     "iopub.status.idle": "2024-05-07T13:44:49.629229Z",
     "shell.execute_reply": "2024-05-07T13:44:49.627641Z"
    },
    "papermill": {
     "duration": 0.322569,
     "end_time": "2024-05-07T13:44:49.631786",
     "exception": false,
     "start_time": "2024-05-07T13:44:49.309217",
     "status": "completed"
    },
    "tags": []
   },
   "outputs": [
    {
     "data": {
      "image/png": "[encoded data removed]"
     },
     "metadata": {
      "image/png": {
       "height": 420,
       "width": 420
      }
     },
     "output_type": "display_data"
    }
   ],
   "source": [
    " ggplot(data = daily_activity, aes(x = ActivityDate, y = TotalSteps)) +\n",
    "  geom_line() +\n",
    "  labs(title = \"Trends in Total Steps Over Time\",\n",
    "       x = \"Date\",\n",
    "       y = \"Total Steps\") +\n",
    "  theme_minimal() "
   ]
  },
  {
   "cell_type": "markdown",
   "id": "24b08651",
   "metadata": {
    "papermill": {
     "duration": 0.018907,
     "end_time": "2024-05-07T13:44:49.670655",
     "exception": false,
     "start_time": "2024-05-07T13:44:49.651748",
     "status": "completed"
    },
    "tags": []
   },
   "source": [
    "1) This visualization shows the trend in total steps taken over time,\n",
    "2) which reflects smart device usage for tracking physical activity.\n",
    "3) It helps identify patterns, fluctuations, and overall trends in activity levels"
   ]
  },
  {
   "cell_type": "code",
   "execution_count": 23,
   "id": "43ae26bb",
   "metadata": {
    "execution": {
     "iopub.execute_input": "2024-05-07T13:44:49.711365Z",
     "iopub.status.busy": "2024-05-07T13:44:49.709975Z",
     "iopub.status.idle": "2024-05-07T13:44:49.929330Z",
     "shell.execute_reply": "2024-05-07T13:44:49.926852Z"
    },
    "papermill": {
     "duration": 0.242852,
     "end_time": "2024-05-07T13:44:49.932266",
     "exception": false,
     "start_time": "2024-05-07T13:44:49.689414",
     "status": "completed"
    },
    "tags": []
   },
   "outputs": [
    {
     "data": {
      "image/png": "[encoded data removed]"
     },
     "metadata": {
      "image/png": {
       "height": 420,
       "width": 420
      }
     },
     "output_type": "display_data"
    }
   ],
   "source": [
    " ggplot(data = daily_activity, aes(x = TotalSteps)) + \n",
    "   geom_histogram(binwidth = 1000, fill = \"skyblue\", color = \"black\") + \n",
    "   labs(title = \"Distribution of Total Steps\",\n",
    "        x = \"Total Steps\",\n",
    "        y = \"Frequency\")"
   ]
  },
  {
   "cell_type": "markdown",
   "id": "bea7d61f",
   "metadata": {
    "papermill": {
     "duration": 0.019683,
     "end_time": "2024-05-07T13:44:49.971797",
     "exception": false,
     "start_time": "2024-05-07T13:44:49.952114",
     "status": "completed"
    },
    "tags": []
   },
   "source": [
    "1) The histogram of total steps provides insights into user activity levels.\n",
    "2) Look for common activity levels, peaks indicating popular activity levels,\n",
    "3) and outliers suggesting extreme behaviors.\n",
    "4) Understanding these patterns can inform marketing strategies\n",
    "5) and product development to better serve user needs."
   ]
  },
  {
   "cell_type": "code",
   "execution_count": 24,
   "id": "f1d9a107",
   "metadata": {
    "execution": {
     "iopub.execute_input": "2024-05-07T13:44:50.015798Z",
     "iopub.status.busy": "2024-05-07T13:44:50.014249Z",
     "iopub.status.idle": "2024-05-07T13:44:50.440855Z",
     "shell.execute_reply": "2024-05-07T13:44:50.439270Z"
    },
    "papermill": {
     "duration": 0.451814,
     "end_time": "2024-05-07T13:44:50.443427",
     "exception": false,
     "start_time": "2024-05-07T13:44:49.991613",
     "status": "completed"
    },
    "tags": []
   },
   "outputs": [
    {
     "data": {
      "image/png": "[encoded data removed]"
     },
     "metadata": {
      "image/png": {
       "height": 420,
       "width": 420
      }
     },
     "output_type": "display_data"
    }
   ],
   "source": [
    " # Create a line plot to visualize weight progress for each individual\n",
    " ggplot(weight_data, aes(x = Date, y = WeightKg, group = Id, color = as.factor(Id))) +\n",
    "   geom_line() +  # Add lines\n",
    "   geom_point(data = weight_data %>% group_by(Id) %>% filter(WeightKg == max(WeightKg)),  # Add points at peaks\n",
    "              aes(x = Date, y = WeightKg, group = Id, color = as.factor(Id)),\n",
    "              size = 3,\n",
    "              shape = 17) +\n",
    "   labs(title = \"Weight Progress Over Time\",\n",
    "        x = \"Date\",\n",
    "        y = \"Weight (kg)\",\n",
    "        color = \"ID\") +  # Update legend title\n",
    "   theme_minimal()"
   ]
  }
 ],
 "metadata": {
  "kaggle": {
   "accelerator": "none",
   "dataSources": [
    {
     "datasetId": 1041311,
     "sourceId": 7746251,
     "sourceType": "datasetVersion"
    }
   ],
   "dockerImageVersionId": 30618,
   "isGpuEnabled": false,
   "isInternetEnabled": false,
   "language": "r",
   "sourceType": "notebook"
  },
  "kernelspec": {
   "display_name": "R",
   "language": "R",
   "name": "ir"
  },
  "language_info": {
   "codemirror_mode": "r",
   "file_extension": ".r",
   "mimetype": "text/x-r-source",
   "name": "R",
   "pygments_lexer": "r",
   "version": "4.0.5"
  },
  "papermill": {
   "default_parameters": {},
   "duration": 25.627457,
   "end_time": "2024-05-07T13:44:50.583841",
   "environment_variables": {},
   "exception": null,
   "input_path": "__notebook__.ipynb",
   "output_path": "__notebook__.ipynb",
   "parameters": {},
   "start_time": "2024-05-07T13:44:24.956384",
   "version": "2.5.0"
  }
 },
 "nbformat": 4,
 "nbformat_minor": 5
}
